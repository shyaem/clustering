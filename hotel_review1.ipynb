{
  "nbformat": 4,
  "nbformat_minor": 0,
  "metadata": {
    "colab": {
      "name": "hotel-review.ipynb",
      "provenance": [],
      "mount_file_id": "1_6d4xHBkqqyLYm4_Nvwvi8o1WHY8iEsz",
      "authorship_tag": "ABX9TyM5WTLgOIJ/28wsU681dxG+",
      "include_colab_link": true
    },
    "kernelspec": {
      "name": "python3",
      "display_name": "Python 3"
    },
    "accelerator": "GPU"
  },
  "cells": [
    {
      "cell_type": "markdown",
      "metadata": {
        "id": "view-in-github",
        "colab_type": "text"
      },
      "source": [
        "<a href=\"https://colab.research.google.com/github/shyaem/clustering/blob/master/hotel_review1.ipynb\" target=\"_parent\"><img src=\"https://colab.research.google.com/assets/colab-badge.svg\" alt=\"Open In Colab\"/></a>"
      ]
    },
    {
      "cell_type": "code",
      "metadata": {
        "colab": {
          "base_uri": "https://localhost:8080/"
        },
        "id": "Zf4DdITPu8fo",
        "outputId": "b0e71d6c-7d70-4228-e0f6-849c6d403042"
      },
      "source": [
        "import pandas as pd\r\n",
        "import numpy as np\r\n",
        "import nltk\r\n",
        "import re\r\n",
        "from nltk.corpus import stopwords\r\n",
        "\r\n",
        "nltk.download('stopwords')\r\n",
        "nltk.download('wordnet')\r\n"
      ],
      "execution_count": 1,
      "outputs": [
        {
          "output_type": "stream",
          "text": [
            "[nltk_data] Downloading package stopwords to /root/nltk_data...\n",
            "[nltk_data]   Unzipping corpora/stopwords.zip.\n",
            "[nltk_data] Downloading package wordnet to /root/nltk_data...\n",
            "[nltk_data]   Unzipping corpora/wordnet.zip.\n"
          ],
          "name": "stdout"
        },
        {
          "output_type": "execute_result",
          "data": {
            "text/plain": [
              "True"
            ]
          },
          "metadata": {
            "tags": []
          },
          "execution_count": 1
        }
      ]
    },
    {
      "cell_type": "code",
      "metadata": {
        "colab": {
          "base_uri": "https://localhost:8080/"
        },
        "id": "cvonAxWyvMvx",
        "outputId": "4a55779e-ece2-444c-e3c8-f48828e396c8"
      },
      "source": [
        "df = pd.read_csv('train.csv')\r\n",
        "print(df.head())\r\n",
        "print(df.describe().transpose())\r\n"
      ],
      "execution_count": 15,
      "outputs": [
        {
          "output_type": "stream",
          "text": [
            "   User_ID  ... Is_Response\n",
            "0  id10326  ...   not happy\n",
            "1  id10327  ...   not happy\n",
            "2  id10328  ...   not happy\n",
            "3  id10329  ...       happy\n",
            "4  id10330  ...   not happy\n",
            "\n",
            "[5 rows x 5 columns]\n",
            "              count  ...   freq\n",
            "User_ID       38932  ...      1\n",
            "Description   38932  ...      1\n",
            "Browser_Used  38932  ...   7367\n",
            "Device_Used   38932  ...  15026\n",
            "Is_Response   38932  ...  26521\n",
            "\n",
            "[5 rows x 4 columns]\n"
          ],
          "name": "stdout"
        }
      ]
    },
    {
      "cell_type": "code",
      "metadata": {
        "colab": {
          "base_uri": "https://localhost:8080/",
          "height": 202
        },
        "id": "dUwS7MaewHOQ",
        "outputId": "e51e22d7-9f20-4375-a4cc-ab9ea8720620"
      },
      "source": [
        "\r\n",
        "\r\n",
        "df = df.drop(columns=['User_ID','Browser_Used','Device_Used'])\r\n",
        "df.head()\r\n",
        "\r\n"
      ],
      "execution_count": 4,
      "outputs": [
        {
          "output_type": "execute_result",
          "data": {
            "text/html": [
              "<div>\n",
              "<style scoped>\n",
              "    .dataframe tbody tr th:only-of-type {\n",
              "        vertical-align: middle;\n",
              "    }\n",
              "\n",
              "    .dataframe tbody tr th {\n",
              "        vertical-align: top;\n",
              "    }\n",
              "\n",
              "    .dataframe thead th {\n",
              "        text-align: right;\n",
              "    }\n",
              "</style>\n",
              "<table border=\"1\" class=\"dataframe\">\n",
              "  <thead>\n",
              "    <tr style=\"text-align: right;\">\n",
              "      <th></th>\n",
              "      <th>Description</th>\n",
              "      <th>Is_Response</th>\n",
              "    </tr>\n",
              "  </thead>\n",
              "  <tbody>\n",
              "    <tr>\n",
              "      <th>0</th>\n",
              "      <td>The room was kind of clean but had a VERY stro...</td>\n",
              "      <td>not happy</td>\n",
              "    </tr>\n",
              "    <tr>\n",
              "      <th>1</th>\n",
              "      <td>I stayed at the Crown Plaza April -- - April -...</td>\n",
              "      <td>not happy</td>\n",
              "    </tr>\n",
              "    <tr>\n",
              "      <th>2</th>\n",
              "      <td>I booked this hotel through Hotwire at the low...</td>\n",
              "      <td>not happy</td>\n",
              "    </tr>\n",
              "    <tr>\n",
              "      <th>3</th>\n",
              "      <td>Stayed here with husband and sons on the way t...</td>\n",
              "      <td>happy</td>\n",
              "    </tr>\n",
              "    <tr>\n",
              "      <th>4</th>\n",
              "      <td>My girlfriends and I stayed here to celebrate ...</td>\n",
              "      <td>not happy</td>\n",
              "    </tr>\n",
              "  </tbody>\n",
              "</table>\n",
              "</div>"
            ],
            "text/plain": [
              "                                         Description Is_Response\n",
              "0  The room was kind of clean but had a VERY stro...   not happy\n",
              "1  I stayed at the Crown Plaza April -- - April -...   not happy\n",
              "2  I booked this hotel through Hotwire at the low...   not happy\n",
              "3  Stayed here with husband and sons on the way t...       happy\n",
              "4  My girlfriends and I stayed here to celebrate ...   not happy"
            ]
          },
          "metadata": {
            "tags": []
          },
          "execution_count": 4
        }
      ]
    },
    {
      "cell_type": "code",
      "metadata": {
        "id": "WJVcQtRRwuoc"
      },
      "source": [
        "\r\n",
        "from nltk.stem import WordNetLemmatizer\r\n",
        "stemmer = WordNetLemmatizer()\r\n",
        "temp = []\r\n",
        "\r\n",
        "\r\n",
        "for i in range(0,len(df['Description'])):\r\n",
        "  review = re.sub('[^a-zA-z]',' ',df['Description'][i])\r\n",
        "  review = review.lower()\r\n",
        "  review = review.split()\r\n",
        "  review = [stemmer.lemmatize(word) for word in review if word not in  set(stopwords.words('english'))]\r\n",
        "  review = ' '.join(review)\r\n",
        "  temp.append(review)"
      ],
      "execution_count": 5,
      "outputs": []
    },
    {
      "cell_type": "code",
      "metadata": {
        "colab": {
          "base_uri": "https://localhost:8080/"
        },
        "id": "gUXezQ1cenPN",
        "outputId": "f37f67a0-2de3-4600-97c2-cbd194f20feb"
      },
      "source": [
        "print(temp[0])"
      ],
      "execution_count": 64,
      "outputs": [
        {
          "output_type": "stream",
          "text": [
            "room kind clean strong smell dog generally average ok overnight stay fussy would consider staying price right breakfast free better nothing\n"
          ],
          "name": "stdout"
        }
      ]
    },
    {
      "cell_type": "code",
      "metadata": {
        "id": "D_veEJ4g0mRF"
      },
      "source": [
        "\r\n",
        "from sklearn.model_selection import train_test_split\r\n",
        "X_train, X_test, y_train, y_test = train_test_split(df['Description'], df['Is_Response'], test_size=0.2, random_state=225)"
      ],
      "execution_count": 18,
      "outputs": []
    },
    {
      "cell_type": "code",
      "metadata": {
        "id": "BNMTKkir27Al"
      },
      "source": [
        "from sklearn.feature_extraction.text import TfidfVectorizer\r\n",
        "from sklearn.linear_model import LogisticRegression\r\n",
        "\r\n",
        "tfidf = TfidfVectorizer(ngram_range=(1,2),max_features=5000)\r\n",
        "\r\n",
        "\r\n",
        "\r\n",
        "clsf = LogisticRegression()\r\n",
        "\r\n",
        "from sklearn.pipeline import Pipeline\r\n"
      ],
      "execution_count": 61,
      "outputs": []
    },
    {
      "cell_type": "code",
      "metadata": {
        "id": "4nWKPhWZ681l"
      },
      "source": [
        "model = Pipeline([('vectorizer',tfidf),('classifier',clsf)])\r\n",
        "\r\n",
        "model.fit(X_train,y_train)\r\n",
        "\r\n",
        "y_predict = model.predict(X_test)\r\n",
        "\r\n"
      ],
      "execution_count": 62,
      "outputs": []
    },
    {
      "cell_type": "code",
      "metadata": {
        "colab": {
          "base_uri": "https://localhost:8080/"
        },
        "id": "ms4aDTUpfD1k",
        "outputId": "74d548a8-7aa6-4119-e984-d68591fb569f"
      },
      "source": [
        "from sklearn.metrics import confusion_matrix\r\n",
        "confusion_matrix(y_predict,y_test)"
      ],
      "execution_count": 55,
      "outputs": [
        {
          "output_type": "execute_result",
          "data": {
            "text/plain": [
              "array([[4948,  591],\n",
              "       [ 303, 1945]])"
            ]
          },
          "metadata": {
            "tags": []
          },
          "execution_count": 55
        }
      ]
    },
    {
      "cell_type": "code",
      "metadata": {
        "colab": {
          "base_uri": "https://localhost:8080/"
        },
        "id": "XtZ1l5HR9hYv",
        "outputId": "c591f969-893f-47b0-c4ff-0d03135d876a"
      },
      "source": [
        "from sklearn.metrics import accuracy_score,precision_score\r\n",
        "\r\n",
        "print('accuracy_score',accuracy_score(y_predict,y_test))\r\n",
        "\r\n",
        "\r\n"
      ],
      "execution_count": 56,
      "outputs": [
        {
          "output_type": "stream",
          "text": [
            "accuracy_score 0.8851932708360087\n"
          ],
          "name": "stdout"
        }
      ]
    },
    {
      "cell_type": "code",
      "metadata": {
        "colab": {
          "base_uri": "https://localhost:8080/"
        },
        "id": "D7MMcwJ0_wTt",
        "outputId": "a25c5627-19c8-4f8c-8f01-622bd7a1374b"
      },
      "source": [
        "model.predict([' best hotel in town '])"
      ],
      "execution_count": 57,
      "outputs": [
        {
          "output_type": "execute_result",
          "data": {
            "text/plain": [
              "array(['happy'], dtype=object)"
            ]
          },
          "metadata": {
            "tags": []
          },
          "execution_count": 57
        }
      ]
    },
    {
      "cell_type": "code",
      "metadata": {
        "id": "kWOpawcwAeBZ",
        "colab": {
          "base_uri": "https://localhost:8080/"
        },
        "outputId": "f884156d-13ee-42c2-bf45-ac57f8a80c8d"
      },
      "source": [
        "model.predict(['  good '])"
      ],
      "execution_count": 59,
      "outputs": [
        {
          "output_type": "execute_result",
          "data": {
            "text/plain": [
              "array(['happy'], dtype=object)"
            ]
          },
          "metadata": {
            "tags": []
          },
          "execution_count": 59
        }
      ]
    },
    {
      "cell_type": "code",
      "metadata": {
        "id": "e6fTsksIqlB6"
      },
      "source": [
        ""
      ],
      "execution_count": null,
      "outputs": []
    }
  ]
}